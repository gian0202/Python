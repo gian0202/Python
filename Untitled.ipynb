{
 "cells": [
  {
   "cell_type": "code",
   "execution_count": 1,
   "id": "61e5e9f5",
   "metadata": {},
   "outputs": [],
   "source": [
    "import pandas as pd"
   ]
  },
  {
   "cell_type": "code",
   "execution_count": 2,
   "id": "744ea7fa",
   "metadata": {},
   "outputs": [],
   "source": [
    "df1 = pd.read_excel('Digesto.xlsx', sheet_name = 'Digesto', usecols = \"E\")\n"
   ]
  },
  {
   "cell_type": "code",
   "execution_count": 3,
   "id": "c84975dd",
   "metadata": {},
   "outputs": [],
   "source": [
    "    df2 = pd.read_excel('extrato_uso_distrib.xlsx', usecols = \"E\")"
   ]
  },
  {
   "cell_type": "code",
   "execution_count": 4,
   "id": "9711204f",
   "metadata": {},
   "outputs": [],
   "source": [
    "    df3 = df2.loc[df2['Detalhes do recurso'].isin(df1['Detalhes do recurso'])]"
   ]
  },
  {
   "cell_type": "code",
   "execution_count": 5,
   "id": "a5b8b99b",
   "metadata": {},
   "outputs": [
    {
     "name": "stdout",
     "output_type": "stream",
     "text": [
      "           Detalhes do recurso\n",
      "0    5319737-12.2022.8.09.0007\n",
      "1    1006134-62.2022.8.26.0161\n",
      "63   0001083-03.2022.8.27.2702\n",
      "64   0700848-72.2022.8.02.0056\n",
      "65   0800762-68.2022.8.10.0030\n",
      "66   0801662-14.2022.8.19.0026\n",
      "67   1037149-61.2022.8.11.0001\n",
      "68   3000237-68.2022.8.06.0163\n",
      "69   0800927-72.2022.8.15.0161\n",
      "215  0700461-76.2022.8.02.0082\n",
      "216  0801998-05.2022.8.15.0131\n",
      "311  0801391-24.2022.8.19.0052\n",
      "314  0811371-09.2022.8.19.0209\n"
     ]
    }
   ],
   "source": [
    "    df4 = pd.concat([df2,df3]).drop_duplicates(keep=False)\n",
    "    print(df4)"
   ]
  },
  {
   "cell_type": "code",
   "execution_count": 14,
   "id": "72ce4822",
   "metadata": {},
   "outputs": [
    {
     "name": "stdout",
     "output_type": "stream",
     "text": [
      "    Centro de custo                                   Termo monitorado  \\\n",
      "0              Koin  Koin Administradora de Cartões e Meios de Paga...   \n",
      "1              Koin  Koin Administradora de Cartões e Meios de Paga...   \n",
      "2              Koin  Koin Administradora de Cartões e Meios de Paga...   \n",
      "3              Koin  Koin Administradora de Cartões e Meios de Paga...   \n",
      "4              Koin  Koin Administradora de Cartões e Meios de Paga...   \n",
      "..              ...                                                ...   \n",
      "352             NaN                        ADM GESTÃO DE NEGOCIOS LTDA   \n",
      "353             NaN                        ADM GESTÃO DE NEGOCIOS LTDA   \n",
      "354             NaN                        ADM GESTÃO DE NEGOCIOS LTDA   \n",
      "355             NaN                        ADM GESTÃO DE NEGOCIOS LTDA   \n",
      "356             NaN                        ADM GESTÃO DE NEGOCIOS LTDA   \n",
      "\n",
      "    Descoberto em          Usuário        Detalhes do recurso  Tags  \\\n",
      "0      2022-05-28  Vinicius Vargas  0019991-27.2022.8.27.2729   NaN   \n",
      "1      2022-05-27  Vinicius Vargas  1036654-17.2022.8.11.0001   NaN   \n",
      "2      2022-05-25  Vinicius Vargas  1008931-52.2022.8.26.0309   NaN   \n",
      "3      2022-05-21  Vinicius Vargas  0845508-70.2022.8.14.0301   NaN   \n",
      "4      2022-05-20  Vinicius Vargas  0005142-53.2022.8.05.0113   NaN   \n",
      "..            ...              ...                        ...   ...   \n",
      "352    2022-05-17  Vinicius Vargas  0020616-17.2022.8.17.8201   NaN   \n",
      "353    2022-05-17  Vinicius Vargas  0000365-89.2022.5.06.0002   NaN   \n",
      "354    2022-05-05  Vinicius Vargas  0046080-19.2022.8.17.2001   NaN   \n",
      "355    2022-05-13  Vinicius Vargas  0802260-95.2022.8.15.0731   NaN   \n",
      "356    2022-05-13  Vinicius Vargas  0049569-64.2022.8.17.2001   NaN   \n",
      "\n",
      "                          comarca  \\\n",
      "0                          PALMAS   \n",
      "1                          CUIABA   \n",
      "2                 FORO DE JUNDIAI   \n",
      "3                           BELEM   \n",
      "4                     ITABUNA MAT   \n",
      "..                            ...   \n",
      "352                       CAPITAL   \n",
      "353                        RECIFE   \n",
      "354                       CAPITAL   \n",
      "355  CABEDELO - FORUM DE CABEDELO   \n",
      "356                       CAPITAL   \n",
      "\n",
      "                                                 foro data de distribuição  \\\n",
      "0                              JUIZADO ESPECIAL CIVEL           2022-05-26   \n",
      "1                              JUIZADO ESPECIAL CIVEL           2022-05-26   \n",
      "2                                     FORO DE JUNDIAI           2022-05-24   \n",
      "3                      VARA DO JUIZADO ESPECIAL CIVEL           2022-05-20   \n",
      "4                        VARA DO SISTEMA DOS JUIZADOS           2022-05-19   \n",
      "..                                                ...                  ...   \n",
      "352  JUIZADO ESPECIAL CIVEL E DAS RELACOES DE CONSUMO           2022-05-05   \n",
      "353                                  VARA DO TRABALHO           2022-05-16   \n",
      "354                                        VARA CIVEL           2022-05-02   \n",
      "355                                               NaN           2022-05-12   \n",
      "356                                        VARA CIVEL           2022-05-09   \n",
      "\n",
      "            area                                    tribunal  \\\n",
      "0          Cível               Tribunal de Justiça Tocantins   \n",
      "1          Cível             Tribunal de Justiça Mato Grosso   \n",
      "2          Cível               Tribunal de Justiça São Paulo   \n",
      "3          Cível                    Tribunal de Justiça Pará   \n",
      "4          Cível                   Tribunal de Justiça Bahia   \n",
      "..           ...                                         ...   \n",
      "352        Cível              Tribunal de Justiça Pernambuco   \n",
      "353  Trabalhista  Tribunal Regional do Trabalho da 6ª Região   \n",
      "354        Cível              Tribunal de Justiça Pernambuco   \n",
      "355        Cível                 Tribunal de Justiça Paraíba   \n",
      "356        Cível              Tribunal de Justiça Pernambuco   \n",
      "\n",
      "                                   natureza  \\\n",
      "0                           PETIÇÃO (CÍVEL)   \n",
      "1    Procedimento do Juizado Especial Cível   \n",
      "2                           PETIÇÃO (CÍVEL)   \n",
      "3    Procedimento do Juizado Especial Cível   \n",
      "4    Procedimento do Juizado Especial Cível   \n",
      "..                                      ...   \n",
      "352  Procedimento do Juizado Especial Cível   \n",
      "353                                   ATSum   \n",
      "354             Tutela Cautelar Antecedente   \n",
      "355  Procedimento do Juizado Especial Cível   \n",
      "356             Tutela Cautelar Antecedente   \n",
      "\n",
      "                                                partes  \\\n",
      "0    DECOLAR. COM LTDA., RAISA ANDRADE SILVA, KOIN ...   \n",
      "1    GOL LINHAS AEREAS S.A., DECOLAR. COM LTDA., AP...   \n",
      "2    DECOLAR. COM LTDA., BRUNA PEREIRA DOS SANTOS, ...   \n",
      "3    DECOLAR. COM LTDA., KOIN ADMINISTRADORA DE CAR...   \n",
      "4    GOL LINHAS AEREAS S.A., DECOLAR. COM LTDA., AL...   \n",
      "..                                                 ...   \n",
      "352  JULIANA GALVAO VIANA, MARCELLA LUIZ DE FIGUEIR...   \n",
      "353  VALDIR DAMIAO DE SOUZA JUNIOR, LARYSSA CAVALCA...   \n",
      "354  MARIO SERGIO COUTINHO SOARES JUNIOR, JULIA ARA...   \n",
      "355  MARIO SERGIO COUTINHO SOARES JUNIOR, Rodrigo A...   \n",
      "356  WILSON SALES NOBREGA, MARIO SERGIO COUTINHO SO...   \n",
      "\n",
      "                         polo  \n",
      "0                   REQUERIDO  \n",
      "1               RÉU (Passivo)  \n",
      "2                       Reqdo  \n",
      "3                   REQUERIDO  \n",
      "4                   Promovido  \n",
      "..                        ...  \n",
      "352                       RÉU  \n",
      "353  POLO PASSIVO (PRINCIPAL)  \n",
      "354                 REQUERIDO  \n",
      "355                       RÉU  \n",
      "356                 REQUERIDO  \n",
      "\n",
      "[357 rows x 14 columns]\n"
     ]
    }
   ],
   "source": [
    "clientes = pd.read_excel('extrato_uso_distrib.xlsx')\n",
    "print(clientes)"
   ]
  },
  {
   "cell_type": "code",
   "execution_count": 15,
   "id": "7d988d68",
   "metadata": {},
   "outputs": [],
   "source": [
    "dfCliente = clientes.loc[clientes['Detalhes do recurso'].isin(df4['Detalhes do recurso'])]"
   ]
  },
  {
   "cell_type": "code",
   "execution_count": 16,
   "id": "d05c92a5",
   "metadata": {},
   "outputs": [
    {
     "name": "stdout",
     "output_type": "stream",
     "text": [
      "65     WILL S.A. MEIOS DE PAGAMENTO\n",
      "66     WILL S.A. MEIOS DE PAGAMENTO\n",
      "242      PAG S/A MEIOS DE PAGAMENTO\n",
      "243      PAG S/A MEIOS DE PAGAMENTO\n",
      "313      R - MARKETING DIGITAL LTDA\n",
      "Name: Termo monitorado, dtype: object\n"
     ]
    }
   ],
   "source": [
    "print(dfCliente['Termo monitorado'])"
   ]
  },
  {
   "cell_type": "code",
   "execution_count": 17,
   "id": "9c1f16fb",
   "metadata": {},
   "outputs": [],
   "source": [
    "ClientesL = dfCliente['Termo monitorado'].str.upper()"
   ]
  },
  {
   "cell_type": "code",
   "execution_count": 18,
   "id": "f79a7156",
   "metadata": {},
   "outputs": [
    {
     "data": {
      "text/plain": [
       "65     WILL S.A. MEIOS DE PAGAMENTO\n",
       "66     WILL S.A. MEIOS DE PAGAMENTO\n",
       "242      PAG S/A MEIOS DE PAGAMENTO\n",
       "243      PAG S/A MEIOS DE PAGAMENTO\n",
       "313      R - MARKETING DIGITAL LTDA\n",
       "Name: Termo monitorado, dtype: object"
      ]
     },
     "execution_count": 18,
     "metadata": {},
     "output_type": "execute_result"
    }
   ],
   "source": [
    "ClientesL"
   ]
  },
  {
   "cell_type": "code",
   "execution_count": 19,
   "id": "6ae61728",
   "metadata": {},
   "outputs": [
    {
     "data": {
      "text/html": [
       "<div>\n",
       "<style scoped>\n",
       "    .dataframe tbody tr th:only-of-type {\n",
       "        vertical-align: middle;\n",
       "    }\n",
       "\n",
       "    .dataframe tbody tr th {\n",
       "        vertical-align: top;\n",
       "    }\n",
       "\n",
       "    .dataframe thead th {\n",
       "        text-align: right;\n",
       "    }\n",
       "</style>\n",
       "<table border=\"1\" class=\"dataframe\">\n",
       "  <thead>\n",
       "    <tr style=\"text-align: right;\">\n",
       "      <th></th>\n",
       "      <th>Cliente</th>\n",
       "      <th>Pessoa Monitorada</th>\n",
       "    </tr>\n",
       "  </thead>\n",
       "  <tbody>\n",
       "    <tr>\n",
       "      <th>0</th>\n",
       "      <td>V4 Company</td>\n",
       "      <td>Pessoas listadas na planilha V4 Company</td>\n",
       "    </tr>\n",
       "    <tr>\n",
       "      <th>1</th>\n",
       "      <td>Confidence</td>\n",
       "      <td>Confidence Corretora de Câmbio S/A</td>\n",
       "    </tr>\n",
       "    <tr>\n",
       "      <th>2</th>\n",
       "      <td>Confidence</td>\n",
       "      <td>Banco Confidence de Câmbio S/A</td>\n",
       "    </tr>\n",
       "    <tr>\n",
       "      <th>3</th>\n",
       "      <td>Confidence</td>\n",
       "      <td>Travelex Banco de Câmbio S/A</td>\n",
       "    </tr>\n",
       "    <tr>\n",
       "      <th>4</th>\n",
       "      <td>Koin</td>\n",
       "      <td>Koin Administradora de Cartões e Meios de Paga...</td>\n",
       "    </tr>\n",
       "    <tr>\n",
       "      <th>5</th>\n",
       "      <td>Cabify</td>\n",
       "      <td>Cabify Agência de Serviços de Transporte de Pa...</td>\n",
       "    </tr>\n",
       "    <tr>\n",
       "      <th>6</th>\n",
       "      <td>Cabify</td>\n",
       "      <td>Easy Taxi Serviços Ltda.</td>\n",
       "    </tr>\n",
       "    <tr>\n",
       "      <th>7</th>\n",
       "      <td>Tembici</td>\n",
       "      <td>Artur Damião Fontes Maia</td>\n",
       "    </tr>\n",
       "    <tr>\n",
       "      <th>8</th>\n",
       "      <td>Tembici</td>\n",
       "      <td>M1 Transportes Sustentáveis Ltda.</td>\n",
       "    </tr>\n",
       "    <tr>\n",
       "      <th>9</th>\n",
       "      <td>Tembici</td>\n",
       "      <td>M2 Soluções em Engenharia Ltda.</td>\n",
       "    </tr>\n",
       "    <tr>\n",
       "      <th>10</th>\n",
       "      <td>Tembici</td>\n",
       "      <td>Samba Transportes Sustentaveis Ltda</td>\n",
       "    </tr>\n",
       "    <tr>\n",
       "      <th>11</th>\n",
       "      <td>Tembici</td>\n",
       "      <td>Tembici Participações S/A</td>\n",
       "    </tr>\n",
       "    <tr>\n",
       "      <th>12</th>\n",
       "      <td>Tembici</td>\n",
       "      <td>Bici Comunicação e Assessoria de Marketing S/A</td>\n",
       "    </tr>\n",
       "    <tr>\n",
       "      <th>13</th>\n",
       "      <td>Tembici</td>\n",
       "      <td>Eduardo Henrique Melo de Lima</td>\n",
       "    </tr>\n",
       "    <tr>\n",
       "      <th>14</th>\n",
       "      <td>Tembici</td>\n",
       "      <td>Angelo José Barros Leite</td>\n",
       "    </tr>\n",
       "    <tr>\n",
       "      <th>15</th>\n",
       "      <td>Tembici</td>\n",
       "      <td>Israel Leite de Araújo</td>\n",
       "    </tr>\n",
       "    <tr>\n",
       "      <th>16</th>\n",
       "      <td>Tembici</td>\n",
       "      <td>Flávio de Barros Leite</td>\n",
       "    </tr>\n",
       "    <tr>\n",
       "      <th>17</th>\n",
       "      <td>Tembici</td>\n",
       "      <td>Leonardo José Corrêa Nunes</td>\n",
       "    </tr>\n",
       "    <tr>\n",
       "      <th>18</th>\n",
       "      <td>Tembici</td>\n",
       "      <td>Rivaldave de Vasconcelos</td>\n",
       "    </tr>\n",
       "    <tr>\n",
       "      <th>19</th>\n",
       "      <td>Tembici</td>\n",
       "      <td>Rudrigo de Melo Maciel</td>\n",
       "    </tr>\n",
       "    <tr>\n",
       "      <th>20</th>\n",
       "      <td>Tembici</td>\n",
       "      <td>Wyk Nissen</td>\n",
       "    </tr>\n",
       "    <tr>\n",
       "      <th>21</th>\n",
       "      <td>Will Bank</td>\n",
       "      <td>Pag S.A. Meios de Pagamento</td>\n",
       "    </tr>\n",
       "    <tr>\n",
       "      <th>22</th>\n",
       "      <td>Will Bank</td>\n",
       "      <td>Will S.A. Meios de Pagamento</td>\n",
       "    </tr>\n",
       "    <tr>\n",
       "      <th>23</th>\n",
       "      <td>Will Bank</td>\n",
       "      <td>Will S.A. Instituição de Pagamento</td>\n",
       "    </tr>\n",
       "    <tr>\n",
       "      <th>24</th>\n",
       "      <td>Will Bank</td>\n",
       "      <td>Avista S/A Crédito Financiamento e Investimento</td>\n",
       "    </tr>\n",
       "    <tr>\n",
       "      <th>25</th>\n",
       "      <td>Will Bank</td>\n",
       "      <td>Avista S/A Administradora de Cartão de Crédito</td>\n",
       "    </tr>\n",
       "    <tr>\n",
       "      <th>26</th>\n",
       "      <td>Will Bank</td>\n",
       "      <td>Will S/A Meios de Pagamento (Pag S/A)</td>\n",
       "    </tr>\n",
       "    <tr>\n",
       "      <th>27</th>\n",
       "      <td>Will Bank</td>\n",
       "      <td>Avista S/A Administradora de Cartões de Crédito</td>\n",
       "    </tr>\n",
       "    <tr>\n",
       "      <th>28</th>\n",
       "      <td>Will Bank</td>\n",
       "      <td>Avista Administradora de Cartões de Crédito Ltda</td>\n",
       "    </tr>\n",
       "    <tr>\n",
       "      <th>29</th>\n",
       "      <td>Will Bank</td>\n",
       "      <td>Pag S/A Meios de Pagamento</td>\n",
       "    </tr>\n",
       "    <tr>\n",
       "      <th>30</th>\n",
       "      <td>Will Bank</td>\n",
       "      <td>Avista S.A. Crédito Financiamento e Investimento</td>\n",
       "    </tr>\n",
       "    <tr>\n",
       "      <th>31</th>\n",
       "      <td>Will Bank</td>\n",
       "      <td>Supernova S/A Meios de Pagamento</td>\n",
       "    </tr>\n",
       "  </tbody>\n",
       "</table>\n",
       "</div>"
      ],
      "text/plain": [
       "       Cliente                                  Pessoa Monitorada\n",
       "0   V4 Company            Pessoas listadas na planilha V4 Company\n",
       "1   Confidence                 Confidence Corretora de Câmbio S/A\n",
       "2   Confidence                     Banco Confidence de Câmbio S/A\n",
       "3   Confidence                       Travelex Banco de Câmbio S/A\n",
       "4         Koin  Koin Administradora de Cartões e Meios de Paga...\n",
       "5       Cabify  Cabify Agência de Serviços de Transporte de Pa...\n",
       "6       Cabify                           Easy Taxi Serviços Ltda.\n",
       "7      Tembici                           Artur Damião Fontes Maia\n",
       "8      Tembici                  M1 Transportes Sustentáveis Ltda.\n",
       "9      Tembici                   M2 Soluções em Engenharia Ltda. \n",
       "10     Tembici                Samba Transportes Sustentaveis Ltda\n",
       "11     Tembici                          Tembici Participações S/A\n",
       "12     Tembici     Bici Comunicação e Assessoria de Marketing S/A\n",
       "13     Tembici                      Eduardo Henrique Melo de Lima\n",
       "14     Tembici                           Angelo José Barros Leite\n",
       "15     Tembici                             Israel Leite de Araújo\n",
       "16     Tembici                             Flávio de Barros Leite\n",
       "17     Tembici                         Leonardo José Corrêa Nunes\n",
       "18     Tembici                           Rivaldave de Vasconcelos\n",
       "19     Tembici                             Rudrigo de Melo Maciel\n",
       "20     Tembici                                         Wyk Nissen\n",
       "21   Will Bank                        Pag S.A. Meios de Pagamento\n",
       "22   Will Bank                       Will S.A. Meios de Pagamento\n",
       "23   Will Bank                 Will S.A. Instituição de Pagamento\n",
       "24   Will Bank    Avista S/A Crédito Financiamento e Investimento\n",
       "25   Will Bank     Avista S/A Administradora de Cartão de Crédito\n",
       "26   Will Bank              Will S/A Meios de Pagamento (Pag S/A)\n",
       "27   Will Bank    Avista S/A Administradora de Cartões de Crédito\n",
       "28   Will Bank   Avista Administradora de Cartões de Crédito Ltda\n",
       "29   Will Bank                         Pag S/A Meios de Pagamento\n",
       "30   Will Bank   Avista S.A. Crédito Financiamento e Investimento\n",
       "31   Will Bank                   Supernova S/A Meios de Pagamento"
      ]
     },
     "execution_count": 19,
     "metadata": {},
     "output_type": "execute_result"
    }
   ],
   "source": [
    "radar = pd.read_excel('Clientes Radar.xlsx')\n",
    "radar\n"
   ]
  },
  {
   "cell_type": "code",
   "execution_count": 20,
   "id": "a338dd62",
   "metadata": {},
   "outputs": [
    {
     "data": {
      "text/plain": [
       "0               PESSOAS LISTADAS NA PLANILHA V4 COMPANY\n",
       "1                    CONFIDENCE CORRETORA DE CÂMBIO S/A\n",
       "2                        BANCO CONFIDENCE DE CÂMBIO S/A\n",
       "3                          TRAVELEX BANCO DE CÂMBIO S/A\n",
       "4     KOIN ADMINISTRADORA DE CARTÕES E MEIOS DE PAGA...\n",
       "5     CABIFY AGÊNCIA DE SERVIÇOS DE TRANSPORTE DE PA...\n",
       "6                              EASY TAXI SERVIÇOS LTDA.\n",
       "7                              ARTUR DAMIÃO FONTES MAIA\n",
       "8                     M1 TRANSPORTES SUSTENTÁVEIS LTDA.\n",
       "9                      M2 SOLUÇÕES EM ENGENHARIA LTDA. \n",
       "10                  SAMBA TRANSPORTES SUSTENTAVEIS LTDA\n",
       "11                            TEMBICI PARTICIPAÇÕES S/A\n",
       "12       BICI COMUNICAÇÃO E ASSESSORIA DE MARKETING S/A\n",
       "13                        EDUARDO HENRIQUE MELO DE LIMA\n",
       "14                             ANGELO JOSÉ BARROS LEITE\n",
       "15                               ISRAEL LEITE DE ARAÚJO\n",
       "16                               FLÁVIO DE BARROS LEITE\n",
       "17                           LEONARDO JOSÉ CORRÊA NUNES\n",
       "18                             RIVALDAVE DE VASCONCELOS\n",
       "19                               RUDRIGO DE MELO MACIEL\n",
       "20                                           WYK NISSEN\n",
       "21                          PAG S.A. MEIOS DE PAGAMENTO\n",
       "22                         WILL S.A. MEIOS DE PAGAMENTO\n",
       "23                   WILL S.A. INSTITUIÇÃO DE PAGAMENTO\n",
       "24      AVISTA S/A CRÉDITO FINANCIAMENTO E INVESTIMENTO\n",
       "25       AVISTA S/A ADMINISTRADORA DE CARTÃO DE CRÉDITO\n",
       "26                WILL S/A MEIOS DE PAGAMENTO (PAG S/A)\n",
       "27      AVISTA S/A ADMINISTRADORA DE CARTÕES DE CRÉDITO\n",
       "28     AVISTA ADMINISTRADORA DE CARTÕES DE CRÉDITO LTDA\n",
       "29                           PAG S/A MEIOS DE PAGAMENTO\n",
       "30     AVISTA S.A. CRÉDITO FINANCIAMENTO E INVESTIMENTO\n",
       "31                     SUPERNOVA S/A MEIOS DE PAGAMENTO\n",
       "Name: Pessoa Monitorada, dtype: object"
      ]
     },
     "execution_count": 20,
     "metadata": {},
     "output_type": "execute_result"
    }
   ],
   "source": [
    "radar2 = radar['Pessoa Monitorada'].str.upper()\n",
    "radar2"
   ]
  },
  {
   "cell_type": "code",
   "execution_count": 13,
   "id": "9258e138",
   "metadata": {},
   "outputs": [
    {
     "data": {
      "text/plain": [
       "pandas.core.series.Series"
      ]
     },
     "execution_count": 13,
     "metadata": {},
     "output_type": "execute_result"
    }
   ],
   "source": [
    "type(radar2)\n",
    "    "
   ]
  },
  {
   "cell_type": "code",
   "execution_count": 14,
   "id": "7289bd96",
   "metadata": {},
   "outputs": [
    {
     "name": "stdout",
     "output_type": "stream",
     "text": [
      "Series([], Name: Pessoa Monitorada, dtype: object)\n"
     ]
    }
   ],
   "source": [
    " ultimo = radar2.loc[radar['Pessoa Monitorada'].isin(dfCliente['Termo monitorado'])]\n",
    "print(ultimo)"
   ]
  },
  {
   "cell_type": "code",
   "execution_count": 15,
   "id": "56a10e70",
   "metadata": {},
   "outputs": [
    {
     "data": {
      "text/plain": [
       "False"
      ]
     },
     "execution_count": 15,
     "metadata": {},
     "output_type": "execute_result"
    }
   ],
   "source": [
    "radar['Pessoa Monitorada'].equals(dfCliente['Termo monitorado'])"
   ]
  },
  {
   "cell_type": "code",
   "execution_count": null,
   "id": "098f3090",
   "metadata": {},
   "outputs": [],
   "source": []
  },
  {
   "cell_type": "code",
   "execution_count": null,
   "id": "ed4a9f14",
   "metadata": {},
   "outputs": [],
   "source": []
  },
  {
   "cell_type": "code",
   "execution_count": null,
   "id": "63978109",
   "metadata": {},
   "outputs": [],
   "source": []
  },
  {
   "cell_type": "code",
   "execution_count": null,
   "id": "57bc488d",
   "metadata": {},
   "outputs": [],
   "source": []
  },
  {
   "cell_type": "code",
   "execution_count": null,
   "id": "1f2dbbea",
   "metadata": {},
   "outputs": [],
   "source": []
  },
  {
   "cell_type": "code",
   "execution_count": 16,
   "id": "0d345740",
   "metadata": {},
   "outputs": [
    {
     "ename": "NameError",
     "evalue": "name 'radar3' is not defined",
     "output_type": "error",
     "traceback": [
      "\u001b[0;31m---------------------------------------------------------------------------\u001b[0m",
      "\u001b[0;31mNameError\u001b[0m                                 Traceback (most recent call last)",
      "Input \u001b[0;32mIn [16]\u001b[0m, in \u001b[0;36m<cell line: 1>\u001b[0;34m()\u001b[0m\n\u001b[0;32m----> 1\u001b[0m radar4 \u001b[38;5;241m=\u001b[39m radar2 \u001b[38;5;241m+\u001b[39m \u001b[38;5;124m\"\u001b[39m\u001b[38;5;124m / \u001b[39m\u001b[38;5;124m\"\u001b[39m \u001b[38;5;241m+\u001b[39m \u001b[43mradar3\u001b[49m\n",
      "\u001b[0;31mNameError\u001b[0m: name 'radar3' is not defined"
     ]
    }
   ],
   "source": [
    "radar4 = radar2 + \" / \" + radar3 "
   ]
  },
  {
   "cell_type": "code",
   "execution_count": null,
   "id": "1099f481",
   "metadata": {},
   "outputs": [],
   "source": [
    "print(radar4)"
   ]
  },
  {
   "cell_type": "code",
   "execution_count": null,
   "id": "c1d3d637",
   "metadata": {},
   "outputs": [],
   "source": [
    "listar2 = list(radar3)"
   ]
  },
  {
   "cell_type": "code",
   "execution_count": 17,
   "id": "d39e06f3",
   "metadata": {},
   "outputs": [
    {
     "ename": "NameError",
     "evalue": "name 'listar2' is not defined",
     "output_type": "error",
     "traceback": [
      "\u001b[0;31m---------------------------------------------------------------------------\u001b[0m",
      "\u001b[0;31mNameError\u001b[0m                                 Traceback (most recent call last)",
      "Input \u001b[0;32mIn [17]\u001b[0m, in \u001b[0;36m<cell line: 1>\u001b[0;34m()\u001b[0m\n\u001b[0;32m----> 1\u001b[0m \u001b[38;5;28mprint\u001b[39m(\u001b[43mlistar2\u001b[49m)\n",
      "\u001b[0;31mNameError\u001b[0m: name 'listar2' is not defined"
     ]
    }
   ],
   "source": [
    "print(listar2)"
   ]
  },
  {
   "cell_type": "code",
   "execution_count": 18,
   "id": "d0bc09e1",
   "metadata": {},
   "outputs": [],
   "source": [
    "teste = ('Cível / 1ª instância')"
   ]
  },
  {
   "cell_type": "code",
   "execution_count": 19,
   "id": "4e2713b4",
   "metadata": {},
   "outputs": [
    {
     "data": {
      "text/plain": [
       "'Cível / 1ª instância'"
      ]
     },
     "execution_count": 19,
     "metadata": {},
     "output_type": "execute_result"
    }
   ],
   "source": [
    "teste"
   ]
  },
  {
   "cell_type": "code",
   "execution_count": 20,
   "id": "20fc6c9e",
   "metadata": {},
   "outputs": [
    {
     "data": {
      "text/plain": [
       "['Cível', '/', '1ª', 'instância']"
      ]
     },
     "execution_count": 20,
     "metadata": {},
     "output_type": "execute_result"
    }
   ],
   "source": [
    "teste.split()"
   ]
  },
  {
   "cell_type": "code",
   "execution_count": 21,
   "id": "e8e399c7",
   "metadata": {},
   "outputs": [],
   "source": [
    "teste2 = teste.split()"
   ]
  },
  {
   "cell_type": "code",
   "execution_count": 22,
   "id": "f1b65565",
   "metadata": {},
   "outputs": [
    {
     "data": {
      "text/plain": [
       "['Cível', '/', '1ª', 'instância']"
      ]
     },
     "execution_count": 22,
     "metadata": {},
     "output_type": "execute_result"
    }
   ],
   "source": [
    "teste2"
   ]
  },
  {
   "cell_type": "code",
   "execution_count": 23,
   "id": "e32cef29",
   "metadata": {},
   "outputs": [],
   "source": [
    "acao = teste2[0] + \" \" + teste2[3]"
   ]
  },
  {
   "cell_type": "code",
   "execution_count": 24,
   "id": "b9637a9a",
   "metadata": {},
   "outputs": [
    {
     "data": {
      "text/plain": [
       "'1ª instância'"
      ]
     },
     "execution_count": 24,
     "metadata": {},
     "output_type": "execute_result"
    }
   ],
   "source": [
    "str(teste2[2]) + \" \" + str(teste2[3])"
   ]
  },
  {
   "cell_type": "code",
   "execution_count": 25,
   "id": "f0d52b7b",
   "metadata": {},
   "outputs": [],
   "source": [
    "acao1 = acao.title()"
   ]
  },
  {
   "cell_type": "code",
   "execution_count": 26,
   "id": "045b4f46",
   "metadata": {},
   "outputs": [
    {
     "data": {
      "text/plain": [
       "'Cível Instância'"
      ]
     },
     "execution_count": 26,
     "metadata": {},
     "output_type": "execute_result"
    }
   ],
   "source": [
    "acao1"
   ]
  },
  {
   "cell_type": "code",
   "execution_count": 27,
   "id": "8285cb48",
   "metadata": {},
   "outputs": [],
   "source": [
    "b = \"macarrão\""
   ]
  },
  {
   "cell_type": "code",
   "execution_count": 28,
   "id": "8e1ae7b6",
   "metadata": {},
   "outputs": [],
   "source": [
    "a = \"Goiaba\""
   ]
  },
  {
   "cell_type": "code",
   "execution_count": 1,
   "id": "13f1e5dc",
   "metadata": {},
   "outputs": [],
   "source": [
    "from datetime import datetime"
   ]
  },
  {
   "cell_type": "code",
   "execution_count": 5,
   "id": "78296763",
   "metadata": {},
   "outputs": [
    {
     "name": "stdout",
     "output_type": "stream",
     "text": [
      "31/05/2022\n"
     ]
    }
   ],
   "source": [
    "print(datetime.today().strftime('%d/%m/%Y'))"
   ]
  },
  {
   "cell_type": "code",
   "execution_count": 8,
   "id": "a6b7b1a9",
   "metadata": {},
   "outputs": [],
   "source": [
    "mv = pd.read_excel('Movimentações.xlsx')"
   ]
  },
  {
   "cell_type": "code",
   "execution_count": 9,
   "id": "404aa2da",
   "metadata": {},
   "outputs": [
    {
     "data": {
      "text/html": [
       "<div>\n",
       "<style scoped>\n",
       "    .dataframe tbody tr th:only-of-type {\n",
       "        vertical-align: middle;\n",
       "    }\n",
       "\n",
       "    .dataframe tbody tr th {\n",
       "        vertical-align: top;\n",
       "    }\n",
       "\n",
       "    .dataframe thead th {\n",
       "        text-align: right;\n",
       "    }\n",
       "</style>\n",
       "<table border=\"1\" class=\"dataframe\">\n",
       "  <thead>\n",
       "    <tr style=\"text-align: right;\">\n",
       "      <th></th>\n",
       "      <th>Cliente</th>\n",
       "      <th>Processo</th>\n",
       "      <th>Tribunal</th>\n",
       "      <th>UF</th>\n",
       "      <th>Localidade</th>\n",
       "      <th>Área</th>\n",
       "      <th>Instancia</th>\n",
       "      <th>Órgão Julgador</th>\n",
       "      <th>Classe</th>\n",
       "      <th>Assuntos</th>\n",
       "      <th>...</th>\n",
       "      <th>Movimentação 11</th>\n",
       "      <th>Movimentação 12</th>\n",
       "      <th>Movimentação 13</th>\n",
       "      <th>Movimentação 14</th>\n",
       "      <th>Movimentação 15</th>\n",
       "      <th>Movimentação 16</th>\n",
       "      <th>Movimentação 17</th>\n",
       "      <th>Movimentação 18</th>\n",
       "      <th>Movimentação 19</th>\n",
       "      <th>Movimentação 20</th>\n",
       "    </tr>\n",
       "  </thead>\n",
       "  <tbody>\n",
       "    <tr>\n",
       "      <th>0</th>\n",
       "      <td>Cabify</td>\n",
       "      <td>0010399-92.2022.5.03.0007</td>\n",
       "      <td>TRT3</td>\n",
       "      <td>NaN</td>\n",
       "      <td>NaN</td>\n",
       "      <td>Trabalhista</td>\n",
       "      <td>1ª Instância</td>\n",
       "      <td>7 - Vara Do Trabalho</td>\n",
       "      <td>ATSUM</td>\n",
       "      <td>- Adicional de Insalubridade - Reconhecimento ...</td>\n",
       "      <td>...</td>\n",
       "      <td>ANEXO JUNTADO - 8 Acórdãos reconhecimento de v...</td>\n",
       "      <td>DISTRIBUIDO - Distribuído por sorteio</td>\n",
       "      <td>DISTRIBUIDO - Distribuído por sorteio</td>\n",
       "      <td>NaN</td>\n",
       "      <td>NaN</td>\n",
       "      <td>NaN</td>\n",
       "      <td>NaN</td>\n",
       "      <td>NaN</td>\n",
       "      <td>NaN</td>\n",
       "      <td>NaN</td>\n",
       "    </tr>\n",
       "    <tr>\n",
       "      <th>1</th>\n",
       "      <td>Will Bank</td>\n",
       "      <td>0000236-97.2022.8.25.0069</td>\n",
       "      <td>TJSE</td>\n",
       "      <td>SE</td>\n",
       "      <td>Sergipe</td>\n",
       "      <td>Cível</td>\n",
       "      <td>1ª Instância</td>\n",
       "      <td>Forum Procurador Paulo Moura</td>\n",
       "      <td>PROCEDIMENTO COMUM CIVEL</td>\n",
       "      <td>- DIREITO DO CONSUMIDOR - Irregularidade no at...</td>\n",
       "      <td>...</td>\n",
       "      <td>NaN</td>\n",
       "      <td>NaN</td>\n",
       "      <td>NaN</td>\n",
       "      <td>NaN</td>\n",
       "      <td>NaN</td>\n",
       "      <td>NaN</td>\n",
       "      <td>NaN</td>\n",
       "      <td>NaN</td>\n",
       "      <td>NaN</td>\n",
       "      <td>NaN</td>\n",
       "    </tr>\n",
       "    <tr>\n",
       "      <th>2</th>\n",
       "      <td>Will Bank</td>\n",
       "      <td>0700753-78.2022.8.02.0044</td>\n",
       "      <td>TJAL</td>\n",
       "      <td>AL</td>\n",
       "      <td>Alagoas</td>\n",
       "      <td>Cível</td>\n",
       "      <td>1ª Instância</td>\n",
       "      <td>2 - Foro De Marechal Deodoro</td>\n",
       "      <td>PROCEDIMENTO DO JUIZADO ESPECIAL CIVEL</td>\n",
       "      <td>- Inclusão Indevida em Cadastro de Inadimplent...</td>\n",
       "      <td>...</td>\n",
       "      <td>NaN</td>\n",
       "      <td>NaN</td>\n",
       "      <td>NaN</td>\n",
       "      <td>NaN</td>\n",
       "      <td>NaN</td>\n",
       "      <td>NaN</td>\n",
       "      <td>NaN</td>\n",
       "      <td>NaN</td>\n",
       "      <td>NaN</td>\n",
       "      <td>NaN</td>\n",
       "    </tr>\n",
       "    <tr>\n",
       "      <th>3</th>\n",
       "      <td>Will Bank</td>\n",
       "      <td>0240582-47.2022.8.06.0001</td>\n",
       "      <td>TJCE</td>\n",
       "      <td>CE</td>\n",
       "      <td>Ceará</td>\n",
       "      <td>Cível</td>\n",
       "      <td>1ª Instância</td>\n",
       "      <td>31A Vara Civel Sejud 1O Grau - Fortaleza - For...</td>\n",
       "      <td>PROCEDIMENTO COMUM CIVEL</td>\n",
       "      <td>- Indenização por Dano Moral</td>\n",
       "      <td>...</td>\n",
       "      <td>NaN</td>\n",
       "      <td>NaN</td>\n",
       "      <td>NaN</td>\n",
       "      <td>NaN</td>\n",
       "      <td>NaN</td>\n",
       "      <td>NaN</td>\n",
       "      <td>NaN</td>\n",
       "      <td>NaN</td>\n",
       "      <td>NaN</td>\n",
       "      <td>NaN</td>\n",
       "    </tr>\n",
       "    <tr>\n",
       "      <th>4</th>\n",
       "      <td>Will Bank</td>\n",
       "      <td>0012430-12.2022.8.26.0002</td>\n",
       "      <td>TJSP</td>\n",
       "      <td>SP</td>\n",
       "      <td>São Paulo</td>\n",
       "      <td>Cível</td>\n",
       "      <td>1ª Instância</td>\n",
       "      <td>9 - Foro Regional Ii - Santo Amaro</td>\n",
       "      <td>CUMPRIMENTO DE SENTENCA</td>\n",
       "      <td>- Cartão de Crédito</td>\n",
       "      <td>...</td>\n",
       "      <td>NaN</td>\n",
       "      <td>NaN</td>\n",
       "      <td>NaN</td>\n",
       "      <td>NaN</td>\n",
       "      <td>NaN</td>\n",
       "      <td>NaN</td>\n",
       "      <td>NaN</td>\n",
       "      <td>NaN</td>\n",
       "      <td>NaN</td>\n",
       "      <td>NaN</td>\n",
       "    </tr>\n",
       "    <tr>\n",
       "      <th>5</th>\n",
       "      <td>Will Bank</td>\n",
       "      <td>0200459-49.2022.8.06.0181</td>\n",
       "      <td>TJCE</td>\n",
       "      <td>CE</td>\n",
       "      <td>Ceará</td>\n",
       "      <td>Cível</td>\n",
       "      <td>1ª Instância</td>\n",
       "      <td>Vara Unica Da Comarca De Varzea Alegre - Varze...</td>\n",
       "      <td>PROCEDIMENTO COMUM CIVEL</td>\n",
       "      <td>- Indenização por Dano Moral</td>\n",
       "      <td>...</td>\n",
       "      <td>NaN</td>\n",
       "      <td>NaN</td>\n",
       "      <td>NaN</td>\n",
       "      <td>NaN</td>\n",
       "      <td>NaN</td>\n",
       "      <td>NaN</td>\n",
       "      <td>NaN</td>\n",
       "      <td>NaN</td>\n",
       "      <td>NaN</td>\n",
       "      <td>NaN</td>\n",
       "    </tr>\n",
       "    <tr>\n",
       "      <th>6</th>\n",
       "      <td>R - MARKETING DIGITAL LTDA</td>\n",
       "      <td>0811204-89.2022.8.19.0209</td>\n",
       "      <td>TJRJ</td>\n",
       "      <td>RJ</td>\n",
       "      <td>Rio de Janeiro</td>\n",
       "      <td>Cível</td>\n",
       "      <td>1ª Instância</td>\n",
       "      <td>7 - Vara Civel</td>\n",
       "      <td>TUTELA ANTECIPADA ANTECEDENTE</td>\n",
       "      <td>- DIREITO CIVIL (899) - Obrigações (7681) - Tí...</td>\n",
       "      <td>...</td>\n",
       "      <td>NaN</td>\n",
       "      <td>NaN</td>\n",
       "      <td>NaN</td>\n",
       "      <td>NaN</td>\n",
       "      <td>NaN</td>\n",
       "      <td>NaN</td>\n",
       "      <td>NaN</td>\n",
       "      <td>NaN</td>\n",
       "      <td>NaN</td>\n",
       "      <td>NaN</td>\n",
       "    </tr>\n",
       "  </tbody>\n",
       "</table>\n",
       "<p>7 rows × 174 columns</p>\n",
       "</div>"
      ],
      "text/plain": [
       "                      Cliente                   Processo Tribunal   UF  \\\n",
       "0                      Cabify  0010399-92.2022.5.03.0007     TRT3  NaN   \n",
       "1                   Will Bank  0000236-97.2022.8.25.0069     TJSE   SE   \n",
       "2                   Will Bank  0700753-78.2022.8.02.0044     TJAL   AL   \n",
       "3                   Will Bank  0240582-47.2022.8.06.0001     TJCE   CE   \n",
       "4                   Will Bank  0012430-12.2022.8.26.0002     TJSP   SP   \n",
       "5                   Will Bank  0200459-49.2022.8.06.0181     TJCE   CE   \n",
       "6  R - MARKETING DIGITAL LTDA  0811204-89.2022.8.19.0209     TJRJ   RJ   \n",
       "\n",
       "       Localidade         Área     Instancia  \\\n",
       "0             NaN  Trabalhista  1ª Instância   \n",
       "1         Sergipe        Cível  1ª Instância   \n",
       "2         Alagoas        Cível  1ª Instância   \n",
       "3           Ceará        Cível  1ª Instância   \n",
       "4       São Paulo        Cível  1ª Instância   \n",
       "5           Ceará        Cível  1ª Instância   \n",
       "6  Rio de Janeiro        Cível  1ª Instância   \n",
       "\n",
       "                                      Órgão Julgador  \\\n",
       "0                               7 - Vara Do Trabalho   \n",
       "1                       Forum Procurador Paulo Moura   \n",
       "2                       2 - Foro De Marechal Deodoro   \n",
       "3  31A Vara Civel Sejud 1O Grau - Fortaleza - For...   \n",
       "4                 9 - Foro Regional Ii - Santo Amaro   \n",
       "5  Vara Unica Da Comarca De Varzea Alegre - Varze...   \n",
       "6                                     7 - Vara Civel   \n",
       "\n",
       "                                   Classe  \\\n",
       "0                                   ATSUM   \n",
       "1                PROCEDIMENTO COMUM CIVEL   \n",
       "2  PROCEDIMENTO DO JUIZADO ESPECIAL CIVEL   \n",
       "3                PROCEDIMENTO COMUM CIVEL   \n",
       "4                 CUMPRIMENTO DE SENTENCA   \n",
       "5                PROCEDIMENTO COMUM CIVEL   \n",
       "6           TUTELA ANTECIPADA ANTECEDENTE   \n",
       "\n",
       "                                            Assuntos  ...  \\\n",
       "0  - Adicional de Insalubridade - Reconhecimento ...  ...   \n",
       "1  - DIREITO DO CONSUMIDOR - Irregularidade no at...  ...   \n",
       "2  - Inclusão Indevida em Cadastro de Inadimplent...  ...   \n",
       "3    - Indenização por Dano Moral                     ...   \n",
       "4             - Cartão de Crédito                     ...   \n",
       "5    - Indenização por Dano Moral                     ...   \n",
       "6  - DIREITO CIVIL (899) - Obrigações (7681) - Tí...  ...   \n",
       "\n",
       "                                     Movimentação 11  \\\n",
       "0  ANEXO JUNTADO - 8 Acórdãos reconhecimento de v...   \n",
       "1                                                NaN   \n",
       "2                                                NaN   \n",
       "3                                                NaN   \n",
       "4                                                NaN   \n",
       "5                                                NaN   \n",
       "6                                                NaN   \n",
       "\n",
       "                         Movimentação 12  \\\n",
       "0  DISTRIBUIDO - Distribuído por sorteio   \n",
       "1                                    NaN   \n",
       "2                                    NaN   \n",
       "3                                    NaN   \n",
       "4                                    NaN   \n",
       "5                                    NaN   \n",
       "6                                    NaN   \n",
       "\n",
       "                         Movimentação 13 Movimentação 14 Movimentação 15  \\\n",
       "0  DISTRIBUIDO - Distribuído por sorteio             NaN             NaN   \n",
       "1                                    NaN             NaN             NaN   \n",
       "2                                    NaN             NaN             NaN   \n",
       "3                                    NaN             NaN             NaN   \n",
       "4                                    NaN             NaN             NaN   \n",
       "5                                    NaN             NaN             NaN   \n",
       "6                                    NaN             NaN             NaN   \n",
       "\n",
       "  Movimentação 16  Movimentação 17  Movimentação 18  Movimentação 19  \\\n",
       "0             NaN              NaN              NaN              NaN   \n",
       "1             NaN              NaN              NaN              NaN   \n",
       "2             NaN              NaN              NaN              NaN   \n",
       "3             NaN              NaN              NaN              NaN   \n",
       "4             NaN              NaN              NaN              NaN   \n",
       "5             NaN              NaN              NaN              NaN   \n",
       "6             NaN              NaN              NaN              NaN   \n",
       "\n",
       "   Movimentação 20  \n",
       "0              NaN  \n",
       "1              NaN  \n",
       "2              NaN  \n",
       "3              NaN  \n",
       "4              NaN  \n",
       "5              NaN  \n",
       "6              NaN  \n",
       "\n",
       "[7 rows x 174 columns]"
      ]
     },
     "execution_count": 9,
     "metadata": {},
     "output_type": "execute_result"
    }
   ],
   "source": [
    "mv"
   ]
  },
  {
   "cell_type": "code",
   "execution_count": 16,
   "id": "dfc7b8bd",
   "metadata": {},
   "outputs": [
    {
     "ename": "AttributeError",
     "evalue": "'Series' object has no attribute 'title'",
     "output_type": "error",
     "traceback": [
      "\u001b[0;31m---------------------------------------------------------------------------\u001b[0m",
      "\u001b[0;31mAttributeError\u001b[0m                            Traceback (most recent call last)",
      "Input \u001b[0;32mIn [16]\u001b[0m, in \u001b[0;36m<cell line: 1>\u001b[0;34m()\u001b[0m\n\u001b[0;32m----> 1\u001b[0m mv1 \u001b[38;5;241m=\u001b[39m \u001b[43mmv\u001b[49m\u001b[43m[\u001b[49m\u001b[38;5;124;43m'\u001b[39;49m\u001b[38;5;124;43mClasse\u001b[39;49m\u001b[38;5;124;43m'\u001b[39;49m\u001b[43m]\u001b[49m\u001b[38;5;241;43m.\u001b[39;49m\u001b[43mtitle\u001b[49m()\n",
      "File \u001b[0;32m~/.local/lib/python3.8/site-packages/pandas/core/generic.py:5575\u001b[0m, in \u001b[0;36mNDFrame.__getattr__\u001b[0;34m(self, name)\u001b[0m\n\u001b[1;32m   5568\u001b[0m \u001b[38;5;28;01mif\u001b[39;00m (\n\u001b[1;32m   5569\u001b[0m     name \u001b[38;5;129;01mnot\u001b[39;00m \u001b[38;5;129;01min\u001b[39;00m \u001b[38;5;28mself\u001b[39m\u001b[38;5;241m.\u001b[39m_internal_names_set\n\u001b[1;32m   5570\u001b[0m     \u001b[38;5;129;01mand\u001b[39;00m name \u001b[38;5;129;01mnot\u001b[39;00m \u001b[38;5;129;01min\u001b[39;00m \u001b[38;5;28mself\u001b[39m\u001b[38;5;241m.\u001b[39m_metadata\n\u001b[1;32m   5571\u001b[0m     \u001b[38;5;129;01mand\u001b[39;00m name \u001b[38;5;129;01mnot\u001b[39;00m \u001b[38;5;129;01min\u001b[39;00m \u001b[38;5;28mself\u001b[39m\u001b[38;5;241m.\u001b[39m_accessors\n\u001b[1;32m   5572\u001b[0m     \u001b[38;5;129;01mand\u001b[39;00m \u001b[38;5;28mself\u001b[39m\u001b[38;5;241m.\u001b[39m_info_axis\u001b[38;5;241m.\u001b[39m_can_hold_identifiers_and_holds_name(name)\n\u001b[1;32m   5573\u001b[0m ):\n\u001b[1;32m   5574\u001b[0m     \u001b[38;5;28;01mreturn\u001b[39;00m \u001b[38;5;28mself\u001b[39m[name]\n\u001b[0;32m-> 5575\u001b[0m \u001b[38;5;28;01mreturn\u001b[39;00m \u001b[38;5;28;43mobject\u001b[39;49m\u001b[38;5;241;43m.\u001b[39;49m\u001b[38;5;21;43m__getattribute__\u001b[39;49m\u001b[43m(\u001b[49m\u001b[38;5;28;43mself\u001b[39;49m\u001b[43m,\u001b[49m\u001b[43m \u001b[49m\u001b[43mname\u001b[49m\u001b[43m)\u001b[49m\n",
      "\u001b[0;31mAttributeError\u001b[0m: 'Series' object has no attribute 'title'"
     ]
    }
   ],
   "source": [
    "mv1 = mv['Classe'].title()"
   ]
  },
  {
   "cell_type": "code",
   "execution_count": 17,
   "id": "53de2f7f",
   "metadata": {},
   "outputs": [],
   "source": [
    "mvc = mv1[1]"
   ]
  },
  {
   "cell_type": "code",
   "execution_count": 18,
   "id": "e40d0f83",
   "metadata": {},
   "outputs": [],
   "source": [
    "mv2 = mvc.title()"
   ]
  },
  {
   "cell_type": "code",
   "execution_count": 19,
   "id": "a46d5884",
   "metadata": {},
   "outputs": [
    {
     "data": {
      "text/plain": [
       "'Procedimento Comum Civel'"
      ]
     },
     "execution_count": 19,
     "metadata": {},
     "output_type": "execute_result"
    }
   ],
   "source": [
    "mv2"
   ]
  },
  {
   "cell_type": "code",
   "execution_count": 11,
   "id": "db81ebfe",
   "metadata": {},
   "outputs": [],
   "source": [
    "cat = \"dog\""
   ]
  },
  {
   "cell_type": "code",
   "execution_count": 12,
   "id": "aa52846a",
   "metadata": {},
   "outputs": [
    {
     "name": "stdout",
     "output_type": "stream",
     "text": [
      "Cat exists\n",
      "Cat is my favorite pet\n"
     ]
    }
   ],
   "source": [
    "if str(cat) in ['dog', 'cachorro', 'horse', 'penguin']:\n",
    "    print('Cat exists')\n",
    "    print('Cat is my favorite pet')"
   ]
  },
  {
   "cell_type": "code",
   "execution_count": 21,
   "id": "25666535",
   "metadata": {},
   "outputs": [
    {
     "name": "stdout",
     "output_type": "stream",
     "text": [
      "65            NaN\n",
      "66            NaN\n",
      "242           NaN\n",
      "243           NaN\n",
      "313    V4 Company\n",
      "Name: Centro de custo, dtype: object\n"
     ]
    }
   ],
   "source": [
    "print(dfCliente['Centro de custo'])"
   ]
  },
  {
   "cell_type": "code",
   "execution_count": null,
   "id": "562bacd1",
   "metadata": {},
   "outputs": [],
   "source": []
  }
 ],
 "metadata": {
  "kernelspec": {
   "display_name": "Python 3 (ipykernel)",
   "language": "python",
   "name": "python3"
  },
  "language_info": {
   "codemirror_mode": {
    "name": "ipython",
    "version": 3
   },
   "file_extension": ".py",
   "mimetype": "text/x-python",
   "name": "python",
   "nbconvert_exporter": "python",
   "pygments_lexer": "ipython3",
   "version": "3.8.10"
  }
 },
 "nbformat": 4,
 "nbformat_minor": 5
}
