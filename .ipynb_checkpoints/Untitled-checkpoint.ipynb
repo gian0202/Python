{
 "cells": [
  {
   "cell_type": "code",
   "execution_count": 1,
   "id": "61e5e9f5",
   "metadata": {},
   "outputs": [],
   "source": [
    "import pandas as pd"
   ]
  },
  {
   "cell_type": "code",
   "execution_count": 2,
   "id": "744ea7fa",
   "metadata": {},
   "outputs": [],
   "source": [
    "df1 = pd.read_excel('Digesto.xlsx', sheet_name = 'Digesto', usecols = \"E\")\n"
   ]
  },
  {
   "cell_type": "code",
   "execution_count": 3,
   "id": "c84975dd",
   "metadata": {},
   "outputs": [],
   "source": [
    "    df2 = pd.read_excel('extrato_uso_distrib.xlsx', usecols = \"E\")"
   ]
  },
  {
   "cell_type": "code",
   "execution_count": 4,
   "id": "9711204f",
   "metadata": {},
   "outputs": [],
   "source": [
    "    df3 = df2.loc[df2['Detalhes do recurso'].isin(df1['Detalhes do recurso'])]"
   ]
  },
  {
   "cell_type": "code",
   "execution_count": 9,
   "id": "a5b8b99b",
   "metadata": {},
   "outputs": [
    {
     "name": "stdout",
     "output_type": "stream",
     "text": [
      "           Detalhes do recurso\n",
      "63   0017131-37.2022.8.16.0182\n",
      "64   0238997-57.2022.8.06.0001\n",
      "65   8001834-65.2022.8.05.0049\n",
      "66   8001835-50.2022.8.05.0049\n",
      "67   0076443-08.2022.8.05.0001\n",
      "68   0076899-55.2022.8.05.0001\n",
      "69   0801966-54.2022.8.20.5112\n",
      "164  1010369-55.2022.8.26.0005\n",
      "165  1006150-78.2022.8.26.0011\n",
      "166  0019387-66.2022.8.27.2729\n",
      "167  0021505-28.2019.8.13.0395\n",
      "168  0046567-12.2015.8.13.0395\n",
      "169  5097983-33.2022.8.13.0024\n",
      "170  0832897-82.2022.8.20.5001\n",
      "171  0076765-28.2022.8.05.0001\n",
      "172  0076750-59.2022.8.05.0001\n",
      "173  1010601-19.2022.8.26.0021\n",
      "174  5005042-84.2022.8.08.0030\n",
      "175  0801860-38.2022.8.15.0131\n",
      "235  1001851-11.2022.8.26.0156\n",
      "236  8069444-97.2022.8.05.0001\n",
      "237  0076933-30.2022.8.05.0001\n",
      "238  0076926-38.2022.8.05.0001\n",
      "239  1021583-07.2022.8.26.0114\n",
      "321  0825992-78.2022.8.15.2001\n"
     ]
    }
   ],
   "source": [
    "    df4 = pd.concat([df2,df3]).drop_duplicates(keep=False)\n",
    "    print(df4)"
   ]
  },
  {
   "cell_type": "code",
   "execution_count": 10,
   "id": "72ce4822",
   "metadata": {},
   "outputs": [
    {
     "name": "stdout",
     "output_type": "stream",
     "text": [
      "    Centro de custo                                   Termo monitorado  \\\n",
      "0              Koin  Koin Administradora de Cartões e Meios de Paga...   \n",
      "1              Koin  Koin Administradora de Cartões e Meios de Paga...   \n",
      "2              Koin  Koin Administradora de Cartões e Meios de Paga...   \n",
      "3              Koin  Koin Administradora de Cartões e Meios de Paga...   \n",
      "4              Koin  Koin Administradora de Cartões e Meios de Paga...   \n",
      "..              ...                                                ...   \n",
      "335             NaN                        ADM GESTÃO DE NEGOCIOS LTDA   \n",
      "336             NaN                        ADM GESTÃO DE NEGOCIOS LTDA   \n",
      "337             NaN                        ADM GESTÃO DE NEGOCIOS LTDA   \n",
      "338             NaN                        ADM GESTÃO DE NEGOCIOS LTDA   \n",
      "339             NaN                        ADM GESTÃO DE NEGOCIOS LTDA   \n",
      "\n",
      "    Descoberto em          Usuário        Detalhes do recurso  Tags  \\\n",
      "0      2022-05-25  Vinicius Vargas  1008931-52.2022.8.26.0309   NaN   \n",
      "1      2022-05-21  Vinicius Vargas  0845508-70.2022.8.14.0301   NaN   \n",
      "2      2022-05-20  Vinicius Vargas  0005142-53.2022.8.05.0113   NaN   \n",
      "3      2022-05-19  Vinicius Vargas  0726091-03.2022.8.07.0016   NaN   \n",
      "4      2022-05-19  Vinicius Vargas  1012553-75.2022.8.26.0007   NaN   \n",
      "..            ...              ...                        ...   ...   \n",
      "335    2022-05-17  Vinicius Vargas  0000365-89.2022.5.06.0002   NaN   \n",
      "336    2022-04-27  Vinicius Vargas  0000245-05.2022.5.06.0145   NaN   \n",
      "337    2022-05-05  Vinicius Vargas  0046080-19.2022.8.17.2001   NaN   \n",
      "338    2022-05-13  Vinicius Vargas  0802260-95.2022.8.15.0731   NaN   \n",
      "339    2022-05-13  Vinicius Vargas  0049569-64.2022.8.17.2001   NaN   \n",
      "\n",
      "                          comarca                            foro  \\\n",
      "0                 FORO DE JUNDIAI                 FORO DE JUNDIAI   \n",
      "1                           BELEM  VARA DO JUIZADO ESPECIAL CIVEL   \n",
      "2                     ITABUNA MAT    VARA DO SISTEMA DOS JUIZADOS   \n",
      "3                        BRASILIA          JUIZADO ESPECIAL CIVEL   \n",
      "4    FORO REGIONAL VII - ITAQUERA    FORO REGIONAL VII - ITAQUERA   \n",
      "..                            ...                             ...   \n",
      "335                        RECIFE                VARA DO TRABALHO   \n",
      "336                      JABOATAO                VARA DO TRABALHO   \n",
      "337                       CAPITAL                      VARA CIVEL   \n",
      "338  CABEDELO - FORUM DE CABEDELO                             NaN   \n",
      "339                       CAPITAL                      VARA CIVEL   \n",
      "\n",
      "    data de distribuição         area  \\\n",
      "0             2022-05-24        Cível   \n",
      "1             2022-05-20        Cível   \n",
      "2             2022-05-19        Cível   \n",
      "3             2022-05-16        Cível   \n",
      "4             2022-05-18        Cível   \n",
      "..                   ...          ...   \n",
      "335           2022-05-16  Trabalhista   \n",
      "336           2022-04-26  Trabalhista   \n",
      "337           2022-05-02        Cível   \n",
      "338           2022-05-12        Cível   \n",
      "339           2022-05-09        Cível   \n",
      "\n",
      "                                       tribunal  \\\n",
      "0                 Tribunal de Justiça São Paulo   \n",
      "1                      Tribunal de Justiça Pará   \n",
      "2                     Tribunal de Justiça Bahia   \n",
      "3          Tribunal de Justiça Distrito Federal   \n",
      "4                 Tribunal de Justiça São Paulo   \n",
      "..                                          ...   \n",
      "335  Tribunal Regional do Trabalho da 6ª Região   \n",
      "336  Tribunal Regional do Trabalho da 6ª Região   \n",
      "337              Tribunal de Justiça Pernambuco   \n",
      "338                 Tribunal de Justiça Paraíba   \n",
      "339              Tribunal de Justiça Pernambuco   \n",
      "\n",
      "                                   natureza  \\\n",
      "0                           PETIÇÃO (CÍVEL)   \n",
      "1    Procedimento do Juizado Especial Cível   \n",
      "2    Procedimento do Juizado Especial Cível   \n",
      "3    Procedimento do Juizado Especial Cível   \n",
      "4    Procedimento do Juizado Especial Cível   \n",
      "..                                      ...   \n",
      "335                                   ATSum   \n",
      "336                                   ATSum   \n",
      "337             Tutela Cautelar Antecedente   \n",
      "338  Procedimento do Juizado Especial Cível   \n",
      "339             Tutela Cautelar Antecedente   \n",
      "\n",
      "                                                partes  \\\n",
      "0    DECOLAR. COM LTDA., BRUNA PEREIRA DOS SANTOS, ...   \n",
      "1    DECOLAR. COM LTDA., KOIN ADMINISTRADORA DE CAR...   \n",
      "2    GOL LINHAS AEREAS S.A., DECOLAR. COM LTDA., AL...   \n",
      "3    TAM LINHAS AEREAS S/A., KOIN ADMINISTRADORA DE...   \n",
      "4    DECOLAR. COM LTDA., RUBENS ROBERTO DA SILVA, K...   \n",
      "..                                                 ...   \n",
      "335  VALDIR DAMIAO DE SOUZA JUNIOR, LARYSSA CAVALCA...   \n",
      "336  RAFAEL FERNANDES DA SILVA, ALISSON JOSE DA SIL...   \n",
      "337  MARIO SERGIO COUTINHO SOARES JUNIOR, JULIA ARA...   \n",
      "338  MARIO SERGIO COUTINHO SOARES JUNIOR, Rodrigo A...   \n",
      "339  WILSON SALES NOBREGA, MARIO SERGIO COUTINHO SO...   \n",
      "\n",
      "                         polo  \n",
      "0                       Reqdo  \n",
      "1                   REQUERIDO  \n",
      "2                   Promovido  \n",
      "3                   REQUERIDO  \n",
      "4                       Reqdo  \n",
      "..                        ...  \n",
      "335  POLO PASSIVO (PRINCIPAL)  \n",
      "336  POLO PASSIVO (PRINCIPAL)  \n",
      "337                 REQUERIDO  \n",
      "338                       RÉU  \n",
      "339                 REQUERIDO  \n",
      "\n",
      "[340 rows x 14 columns]\n"
     ]
    }
   ],
   "source": [
    "clientes = pd.read_excel('extrato_uso_distrib.xlsx')\n",
    "print(clientes)"
   ]
  },
  {
   "cell_type": "code",
   "execution_count": 11,
   "id": "7d988d68",
   "metadata": {},
   "outputs": [],
   "source": [
    "dfCliente = clientes.loc[clientes['Detalhes do recurso'].isin(df4['Detalhes do recurso'])]"
   ]
  },
  {
   "cell_type": "code",
   "execution_count": 12,
   "id": "d05c92a5",
   "metadata": {},
   "outputs": [
    {
     "name": "stdout",
     "output_type": "stream",
     "text": [
      "63                    WILL S.A. MEIOS DE PAGAMENTO\n",
      "64                    WILL S.A. MEIOS DE PAGAMENTO\n",
      "65                    WILL S.A. MEIOS DE PAGAMENTO\n",
      "66                    WILL S.A. MEIOS DE PAGAMENTO\n",
      "67                    WILL S.A. MEIOS DE PAGAMENTO\n",
      "68                    WILL S.A. MEIOS DE PAGAMENTO\n",
      "69                    WILL S.A. MEIOS DE PAGAMENTO\n",
      "164    AVISTA ADMINISTRADORA DE CARTOES DE CREDITO\n",
      "165    AVISTA ADMINISTRADORA DE CARTOES DE CREDITO\n",
      "166    AVISTA ADMINISTRADORA DE CARTOES DE CREDITO\n",
      "167    AVISTA ADMINISTRADORA DE CARTOES DE CREDITO\n",
      "168    AVISTA ADMINISTRADORA DE CARTOES DE CREDITO\n",
      "169    AVISTA ADMINISTRADORA DE CARTOES DE CREDITO\n",
      "170    AVISTA ADMINISTRADORA DE CARTOES DE CREDITO\n",
      "171    AVISTA ADMINISTRADORA DE CARTOES DE CREDITO\n",
      "172    AVISTA ADMINISTRADORA DE CARTOES DE CREDITO\n",
      "173    AVISTA ADMINISTRADORA DE CARTOES DE CREDITO\n",
      "174    AVISTA ADMINISTRADORA DE CARTOES DE CREDITO\n",
      "175    AVISTA ADMINISTRADORA DE CARTOES DE CREDITO\n",
      "235                     PAG S/A MEIOS DE PAGAMENTO\n",
      "236                     PAG S/A MEIOS DE PAGAMENTO\n",
      "237                     PAG S/A MEIOS DE PAGAMENTO\n",
      "238                     PAG S/A MEIOS DE PAGAMENTO\n",
      "239                     PAG S/A MEIOS DE PAGAMENTO\n",
      "321                         ADM GESTAO DE NEGOCIOS\n",
      "Name: Termo monitorado, dtype: object\n"
     ]
    }
   ],
   "source": [
    "print(dfCliente['Termo monitorado'])"
   ]
  },
  {
   "cell_type": "code",
   "execution_count": 13,
   "id": "9c1f16fb",
   "metadata": {},
   "outputs": [],
   "source": [
    "ClientesL = list(dfCliente['Termo monitorado'])"
   ]
  },
  {
   "cell_type": "code",
   "execution_count": 14,
   "id": "f79a7156",
   "metadata": {},
   "outputs": [
    {
     "name": "stdout",
     "output_type": "stream",
     "text": [
      "['WILL S.A. MEIOS DE PAGAMENTO', 'WILL S.A. MEIOS DE PAGAMENTO', 'WILL S.A. MEIOS DE PAGAMENTO', 'WILL S.A. MEIOS DE PAGAMENTO', 'WILL S.A. MEIOS DE PAGAMENTO', 'WILL S.A. MEIOS DE PAGAMENTO', 'WILL S.A. MEIOS DE PAGAMENTO', 'AVISTA ADMINISTRADORA DE CARTOES DE CREDITO', 'AVISTA ADMINISTRADORA DE CARTOES DE CREDITO', 'AVISTA ADMINISTRADORA DE CARTOES DE CREDITO', 'AVISTA ADMINISTRADORA DE CARTOES DE CREDITO', 'AVISTA ADMINISTRADORA DE CARTOES DE CREDITO', 'AVISTA ADMINISTRADORA DE CARTOES DE CREDITO', 'AVISTA ADMINISTRADORA DE CARTOES DE CREDITO', 'AVISTA ADMINISTRADORA DE CARTOES DE CREDITO', 'AVISTA ADMINISTRADORA DE CARTOES DE CREDITO', 'AVISTA ADMINISTRADORA DE CARTOES DE CREDITO', 'AVISTA ADMINISTRADORA DE CARTOES DE CREDITO', 'AVISTA ADMINISTRADORA DE CARTOES DE CREDITO', 'PAG S/A MEIOS DE PAGAMENTO', 'PAG S/A MEIOS DE PAGAMENTO', 'PAG S/A MEIOS DE PAGAMENTO', 'PAG S/A MEIOS DE PAGAMENTO', 'PAG S/A MEIOS DE PAGAMENTO', 'ADM GESTAO DE NEGOCIOS']\n"
     ]
    }
   ],
   "source": [
    "print(ClientesL)"
   ]
  },
  {
   "cell_type": "code",
   "execution_count": null,
   "id": "6ae61728",
   "metadata": {},
   "outputs": [],
   "source": [
    "radar = pd.read_excel('Clientes Radar.xlsx', usecols = \"E\")"
   ]
  }
 ],
 "metadata": {
  "kernelspec": {
   "display_name": "Python 3 (ipykernel)",
   "language": "python",
   "name": "python3"
  },
  "language_info": {
   "codemirror_mode": {
    "name": "ipython",
    "version": 3
   },
   "file_extension": ".py",
   "mimetype": "text/x-python",
   "name": "python",
   "nbconvert_exporter": "python",
   "pygments_lexer": "ipython3",
   "version": "3.8.10"
  }
 },
 "nbformat": 4,
 "nbformat_minor": 5
}
